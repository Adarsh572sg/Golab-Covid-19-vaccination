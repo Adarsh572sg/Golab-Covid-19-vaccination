{
  "nbformat": 4,
  "nbformat_minor": 0,
  "metadata": {
    "colab": {
      "private_outputs": true,
      "provenance": []
    },
    "kernelspec": {
      "name": "python3",
      "display_name": "Python 3"
    },
    "language_info": {
      "name": "python"
    }
  },
  "cells": [
    {
      "cell_type": "markdown",
      "source": [
        "# Introduction\n",
        "The COVID-19 pandemic has significantly impacted global health and economies. To combat its spread, vaccines have been developed and distributed worldwide. This project aims to analyze COVID-19 vaccination data across different countries, providing insights into vaccination trends, progress, and disparities."
      ],
      "metadata": {
        "id": "A7B8HBS3n7MI"
      }
    },
    {
      "cell_type": "markdown",
      "source": [
        "# Problem Statement:\n",
        "\n",
        "To analyze the global distribution of COVID-19 vaccines,identify disparities in vaccination rates across countries,and assess the impact of vaccinations on controlling the pandemic.\n"
      ],
      "metadata": {
        "id": "WVT564pez4ki"
      }
    },
    {
      "cell_type": "markdown",
      "source": [
        "# Understand Global Vaccination Trends\n",
        "\n",
        "Analyze how vaccination efforts progressed over time across different countries.\n",
        "Identify patterns in vaccine distribution.\n",
        "\n",
        "# Identify Top & Bottom Countries\n",
        "\n",
        "Determine which countries have the highest and lowest vaccination rates.\n",
        "Compare vaccination efforts across continents.\n",
        "\n",
        "# Analyze Vaccine Distribution\n",
        "\n",
        "Identify the types of vaccines used in different countries.\n",
        "Compare the adoption rate of different vaccines.\n",
        "\n",
        "# Study the Impact of Vaccination Efforts\n",
        "\n",
        "Examine how total vaccinations correlate with COVID-19 cases/deaths (if additional data is available).\n",
        "Evaluate the effectiveness of vaccination campaigns.\n",
        "\n",
        "# Predict Future Vaccination Trends (if using ML models)\n",
        "\n",
        "Forecast future vaccination rates based on historical data.\n",
        "Identify countries that may need more vaccine supply based on trends."
      ],
      "metadata": {
        "id": "Hfx9sXclgL4n"
      }
    },
    {
      "cell_type": "markdown",
      "source": [
        "# The real-world significance\n",
        "\n",
        "* Tracking Global Vaccination Progress – Helps monitor immunization rates, identify lagging regions, and ensure timely responses.\n",
        "\n",
        "* Identifying Inequities in Vaccine Distribution – Highlights disparities between countries and socioeconomic groups, aiding policy decisions.\n",
        "\n",
        "* Evaluating Vaccine Effectiveness – Determines how well vaccines reduce infections, hospitalizations, and deaths.\n",
        "\n",
        "* Preparing for Future Pandemics – Provides insights into vaccination strategies to improve future outbreak responses.\n",
        "\n",
        "* Understanding Public Behavior & Vaccine Hesitancy – Helps address misinformation and improve public health campaigns.\n",
        "\n",
        "* Economic & Social Impact – Assesses how vaccinations influence economic recovery, workforce stability, and social behaviors.\n"
      ],
      "metadata": {
        "id": "JLA_MAnjXyPe"
      }
    },
    {
      "cell_type": "markdown",
      "source": [
        "# Future Scope\n",
        "\n",
        "# Advanced Predictive Modeling\n",
        "Forecasting future pandemics or healthcare trends using ARIMA, LSTMs, or XGBoost.\n",
        "# Data Integration for Deeper Insights  :\n",
        " Combining multiple data sources (WHO, CDC, local health records) for richer analysis.\n",
        "# AI & ML Applications :\n",
        "Using deep learning for disease detection or NLP for analyzing public health sentiment.\n",
        "# Public Health & Policy Making :\n",
        "Data-driven decision-making models for vaccine distribution and policy impact analysis.\n",
        "# Real-Time Dashboards & Visualization :\n",
        "Power BI/Tableau dashboards showing live public health trends.\n",
        "# Expansion Beyond COVID-19:\n",
        " Extending analysis to other diseases (influenza, tuberculosis) or healthcare analytics.\n"
      ],
      "metadata": {
        "id": "NLgl9ZXHmm1j"
      }
    },
    {
      "cell_type": "markdown",
      "source": [
        "# Step 1: Import Required Libraries"
      ],
      "metadata": {
        "id": "Lr4rXgoz9XBV"
      }
    },
    {
      "cell_type": "code",
      "source": [
        "!pip install statsmodels"
      ],
      "metadata": {
        "id": "cOo7UeUZwDid"
      },
      "execution_count": null,
      "outputs": []
    },
    {
      "cell_type": "code",
      "execution_count": null,
      "metadata": {
        "id": "5GO7MvNgem_P"
      },
      "outputs": [],
      "source": [
        "import pandas as pd\n",
        "import numpy as np\n",
        "import matplotlib.pyplot as plt\n",
        "import seaborn as sns\n",
        "from sklearn.ensemble import RandomForestClassifier # Import RandomForestClassifier from sklearn.ensemble\n",
        "from sklearn.model_selection import train_test_split, GridSearchCV\n",
        "from sklearn.metrics import mean_squared_error, accuracy_score, f1_score\n",
        "from sklearn.metrics import classification_report\n",
        "from sklearn.preprocessing import LabelEncoder\n",
        "from sklearn.metrics import r2_score\n",
        "from statsmodels.tsa.stattools import adfuller\n",
        "from statsmodels.tsa.arima.model import ARIMA"
      ]
    },
    {
      "cell_type": "markdown",
      "source": [
        "# Step 2:Understanding dataset"
      ],
      "metadata": {
        "id": "wKK-Atmq2jvQ"
      }
    },
    {
      "cell_type": "code",
      "source": [
        "df=pd.read_csv('/content/country_vaccinations.csv')"
      ],
      "metadata": {
        "id": "0J0_BYsB2jJ4"
      },
      "execution_count": null,
      "outputs": []
    },
    {
      "cell_type": "code",
      "source": [
        "print(df)"
      ],
      "metadata": {
        "id": "wmMjFttJlt-W"
      },
      "execution_count": null,
      "outputs": []
    },
    {
      "cell_type": "markdown",
      "source": [
        "# Step3:Preview the dataset"
      ],
      "metadata": {
        "id": "KjO4K_n_9ges"
      }
    },
    {
      "cell_type": "code",
      "source": [
        "df.head()"
      ],
      "metadata": {
        "id": "gU3JLey_2pdY"
      },
      "execution_count": null,
      "outputs": []
    },
    {
      "cell_type": "code",
      "source": [
        "df.tail()"
      ],
      "metadata": {
        "id": "npypgrOC2-OP"
      },
      "execution_count": null,
      "outputs": []
    },
    {
      "cell_type": "code",
      "source": [
        "df.country.value_counts()"
      ],
      "metadata": {
        "id": "t6oQR5a5luaN"
      },
      "execution_count": null,
      "outputs": []
    },
    {
      "cell_type": "code",
      "source": [
        "df.vaccines.value_counts()"
      ],
      "metadata": {
        "id": "amHgUsgHmKwt"
      },
      "execution_count": null,
      "outputs": []
    },
    {
      "cell_type": "code",
      "source": [
        "df.columns"
      ],
      "metadata": {
        "id": "ndDAVilU3TBf"
      },
      "execution_count": null,
      "outputs": []
    },
    {
      "cell_type": "markdown",
      "source": [
        "# step 4: Check the Shape of the Dataset"
      ],
      "metadata": {
        "id": "AyOX95TE91mU"
      }
    },
    {
      "cell_type": "code",
      "source": [
        "num_rows, num_columns = df.shape\n",
        "print(f\"Number of Instances (Rows): {num_rows}\")\n",
        "print(f\"Number of Features (Columns): {num_columns}\")"
      ],
      "metadata": {
        "id": "1XdDwHzq3kL_"
      },
      "execution_count": null,
      "outputs": []
    },
    {
      "cell_type": "markdown",
      "source": [
        "# Step 5: Check column information"
      ],
      "metadata": {
        "id": "l02736yl-BJe"
      }
    },
    {
      "cell_type": "code",
      "source": [
        "display(df.info())\n",
        "print(\"\\nDescriptive Statistics for Numerical Columns:\")"
      ],
      "metadata": {
        "id": "eJ27aWG83YMP"
      },
      "execution_count": null,
      "outputs": []
    },
    {
      "cell_type": "markdown",
      "source": [
        "# Step 6:Check for Duplicates"
      ],
      "metadata": {
        "id": "rCfu3rFUQPsU"
      }
    },
    {
      "cell_type": "code",
      "source": [
        "print(f\"duplicate Row :{df.duplicated().sum()}\")"
      ],
      "metadata": {
        "id": "WtQBVvEiQai0"
      },
      "execution_count": null,
      "outputs": []
    },
    {
      "cell_type": "code",
      "source": [
        "df['date']=pd.to_datetime(df['date'])"
      ],
      "metadata": {
        "id": "sCOnKgWV-iS5"
      },
      "execution_count": null,
      "outputs": []
    },
    {
      "cell_type": "code",
      "source": [
        "print(df.dtypes)"
      ],
      "metadata": {
        "id": "GRmbeDpi-4DA"
      },
      "execution_count": null,
      "outputs": []
    },
    {
      "cell_type": "markdown",
      "source": [
        "# Step 7:  Check for missing values"
      ],
      "metadata": {
        "id": "2CjLJAEi-QHI"
      }
    },
    {
      "cell_type": "code",
      "source": [
        "for column in ['country', 'source_name', 'vaccines']:\n",
        "    print(f\"\\nUnique values in '{column}': {df[column].unique()[:20]}\")  # Displaying first 20 unique values for brevity\n",
        "print(\"\\nMissing Values per Column:\")\n",
        "display(df.isnull().sum())"
      ],
      "metadata": {
        "id": "oiuGhMDC-OMo"
      },
      "execution_count": null,
      "outputs": []
    },
    {
      "cell_type": "markdown",
      "source": [
        "# Step 8: Summary Statistics"
      ],
      "metadata": {
        "id": "w9gg3aak-h4F"
      }
    },
    {
      "cell_type": "code",
      "source": [
        "display(df.describe())\n",
        "print(\"\\nUnique Values in Categorical Columns:\")"
      ],
      "metadata": {
        "id": "gcL9Tk0D88sV"
      },
      "execution_count": null,
      "outputs": []
    },
    {
      "cell_type": "markdown",
      "source": [
        "# Step 9 : Analyze data types"
      ],
      "metadata": {
        "id": "5uwpNkt5_p62"
      }
    },
    {
      "cell_type": "code",
      "source": [
        "print(df.dtypes.value_counts())"
      ],
      "metadata": {
        "id": "PfxIg8PL_koT"
      },
      "execution_count": null,
      "outputs": []
    },
    {
      "cell_type": "code",
      "source": [
        "print(df)"
      ],
      "metadata": {
        "id": "G4Tuv56wyKsB"
      },
      "execution_count": null,
      "outputs": []
    },
    {
      "cell_type": "code",
      "source": [
        "df.fillna(df.median(numeric_only=True), inplace=True)\n",
        "\n",
        "# Check if the 'vaccines' column exists before proceeding\n",
        "if 'vaccines' in df.columns:\n",
        "    # Encoding categorical variables (if needed)\n",
        "    df = pd.get_dummies(df, columns=[\"vaccines\"], drop_first=True)\n",
        "else:\n",
        "    print(\"Warning: 'vaccines' column not found in DataFrame. Skipping encoding.\")\n",
        "\n",
        "# Normalize numerical data\n",
        "from sklearn.preprocessing import MinMaxScaler\n",
        "scaler = MinMaxScaler()\n",
        "df[[\"total_vaccinations\", \"people_vaccinated\", \"people_fully_vaccinated\"]] = scaler.fit_transform(\n",
        "    df[[\"total_vaccinations\", \"people_vaccinated\", \"people_fully_vaccinated\"]]\n",
        ")"
      ],
      "metadata": {
        "id": "srsuLT21UwOz"
      },
      "execution_count": null,
      "outputs": []
    },
    {
      "cell_type": "code",
      "source": [
        "import matplotlib.pyplot as plt\n",
        "\n",
        "numerical_columns = ['total_vaccinations', 'daily_vaccinations', 'people_vaccinated', 'people_fully_vaccinated']\n",
        "fig, axes = plt.subplots(nrows=2, ncols=2, figsize=(15, 10))\n",
        "for i, column in enumerate(numerical_columns):\n",
        "  row = i // 2\n",
        "  col = i % 2\n",
        "  df[column].hist(ax=axes[row, col], bins=20)\n",
        "  axes[row, col].set_title(f\"Distribution of {column}\")\n",
        "  axes[row, col].set_xlabel(column)\n",
        "  axes[row, col].set_ylabel(\"Frequency\")\n",
        "plt.tight_layout()\n",
        "plt.show()"
      ],
      "metadata": {
        "id": "5sZ472JLsghe"
      },
      "execution_count": null,
      "outputs": []
    },
    {
      "cell_type": "code",
      "source": [
        "# Fill missing values in vaccination-related columns with 0\n",
        "columns_to_fill_with_zero = ['daily_vaccinations', 'people_vaccinated', 'people_fully_vaccinated',\n",
        "                             'total_vaccinations_per_hundred', 'people_vaccinated_per_hundred',\n",
        "                             'people_fully_vaccinated_per_hundred', 'daily_vaccinations_per_million']\n",
        "df[columns_to_fill_with_zero] = df[columns_to_fill_with_zero].fillna(0)\n",
        "\n",
        "df['source_name'] = df['source_name'].fillna('Unknown')\n",
        "# The 'vaccines' column was removed by get_dummies, so we don't need to fill it\n",
        "#df['vaccines'] = df['vaccines'].fillna('Unknown')\n",
        "\n",
        "df['date'] = pd.to_datetime(df['date'])\n",
        "\n",
        "df.drop_duplicates(inplace=True)\n",
        "\n",
        "# Remove 'vaccines' from the list of columns to print unique values for\n",
        "for column in ['country', 'source_name']:\n",
        "  print(f\"\\nUnique values in '{column}': {df[column].unique()[:20]}\")  # Displaying first 20 unique values for brevity\n",
        "\n",
        "\n",
        "print(\"\\nMissing Values per Column:\")\n",
        "display(df.isnull().sum())"
      ],
      "metadata": {
        "id": "hMoy8Dg0syAs"
      },
      "execution_count": null,
      "outputs": []
    },
    {
      "cell_type": "code",
      "source": [
        "df"
      ],
      "metadata": {
        "id": "iCQn1-5jUwNz"
      },
      "execution_count": null,
      "outputs": []
    },
    {
      "cell_type": "code",
      "source": [
        "plt.figure(figsize=(12, 6))\n",
        "numeric_df = df.select_dtypes(include=np.number)  # Select only numeric columns for correlation\n",
        "sns.heatmap(numeric_df.corr(), annot=True, cmap=\"coolwarm\")\n",
        "plt.title(\"Feature Correlation Heatmap\")\n",
        "plt.show()"
      ],
      "metadata": {
        "id": "E3c49DfzZmuc"
      },
      "execution_count": null,
      "outputs": []
    },
    {
      "cell_type": "code",
      "source": [
        "import matplotlib.pyplot as plt\n",
        "import numpy as np\n",
        "\n",
        "# Calculate the IQR and identify outliers based on a threshold (e.g., 1.5 times the IQR)\n",
        "q1 = df['daily_vaccinations'].quantile(0.25)\n",
        "q3 = df['daily_vaccinations'].quantile(0.75)\n",
        "iqr = q3 - q1\n",
        "lower_bound = q1 - 1.5 * iqr\n",
        "upper_bound = q3 + 1.5 * iqr\n",
        "\n",
        "outliers = df[(df['daily_vaccinations'] < lower_bound) | (df['daily_vaccinations'] > upper_bound)]\n",
        "\n",
        "# Create a box plot to visualize the distribution and outliers\n",
        "plt.figure(figsize=(15, 8))\n",
        "plt.boxplot(df['daily_vaccinations'].dropna())\n",
        "plt.ylabel('Daily Vaccinations')\n",
        "plt.title('Box Plot of Daily Vaccinations with Outliers')\n",
        "plt.show()\n",
        "\n",
        "# Create a scatter plot to highlight the outliers\n",
        "plt.figure(figsize=(15, 8))\n",
        "plt.scatter(df.index, df['daily_vaccinations'], label='Daily Vaccinations')\n",
        "plt.scatter(outliers.index, outliers['daily_vaccinations'], color='red', label='Outliers')\n",
        "plt.xlabel('Index')\n",
        "plt.ylabel('Daily Vaccinations')\n",
        "plt.title('Scatter Plot of Daily Vaccinations with Outliers')\n",
        "plt.legend()\n",
        "plt.show()"
      ],
      "metadata": {
        "id": "BWs7riB5rkxG"
      },
      "execution_count": null,
      "outputs": []
    },
    {
      "cell_type": "code",
      "source": [
        "df['total_vaccinations'] = df['total_vaccinations'].fillna(0)\n",
        "df['people_vaccinated'] = df['people_vaccinated'].fillna(0)\n",
        "df['people_fully_vaccinated'] = df['people_fully_vaccinated'].fillna(0)\n",
        "\n",
        "df.loc[df['total_vaccinations'] < df['people_vaccinated'], 'total_vaccinations'] = df['people_vaccinated']\n",
        "\n",
        "df.loc[df['total_vaccinations'] < df['people_fully_vaccinated'], 'total_vaccinations'] = df['people_fully_vaccinated']"
      ],
      "metadata": {
        "id": "EXCdT9Mis8JW"
      },
      "execution_count": null,
      "outputs": []
    },
    {
      "cell_type": "code",
      "source": [
        "total_vaccinations_per_country = df.groupby('country')['total_vaccinations'].max()\n",
        "\n",
        "population_data = df.groupby('country').size()\n",
        "population_data = population_data.fillna(10000000)\n",
        "\n",
        "vaccination_rate = total_vaccinations_per_country / population_data\n",
        "\n",
        "df['daily_vaccination_growth_rate'] = df.groupby('country')['daily_vaccinations'].pct_change()\n",
        "\n",
        "\n",
        "df['rolling_avg_daily_vaccinations'] = df.groupby('country')['daily_vaccinations'].rolling(window=7).mean().reset_index(level=0, drop=True)\n",
        "\n",
        "print(\"Total Vaccinations per Country:\")\n",
        "display(total_vaccinations_per_country.head())\n",
        "print(\"\\nVaccination Rate:\")\n",
        "display(vaccination_rate.head())\n",
        "print(\"\\nDataFrame with New Features:\")\n",
        "display(df.head())"
      ],
      "metadata": {
        "id": "zvR9DjDAtBYs"
      },
      "execution_count": null,
      "outputs": []
    },
    {
      "cell_type": "code",
      "source": [
        "# Distribution of Daily Vaccinations\n",
        "sns.histplot(df[\"daily_vaccinations\"], bins=60, kde=True)\n",
        "plt.title(\"Daily Vaccinations Distribution\")\n",
        "plt.show()"
      ],
      "metadata": {
        "id": "RLUKtJY7Z9bs"
      },
      "execution_count": null,
      "outputs": []
    },
    {
      "cell_type": "code",
      "source": [
        "# Assuming a population for countries without available data (replace with actual population data if available)\n",
        "population_data = df.groupby('country').size()\n",
        "population_data = population_data.fillna(10000000)\n",
        "\n",
        "# Calculate the vaccination rate\n",
        "total_vaccinations_by_country = df.groupby('country')['total_vaccinations'].max()\n",
        "vaccination_rate_by_country = total_vaccinations_by_country / population_data\n",
        "\n",
        "# Create a scatter plot\n",
        "plt.figure(figsize=(15, 8))\n",
        "plt.scatter(total_vaccinations_by_country, vaccination_rate_by_country)\n",
        "plt.xlabel('Total Vaccinations')\n",
        "plt.ylabel('Vaccination Rate')\n",
        "plt.title('Vaccination Rate vs. Total Vaccinations')\n",
        "plt.grid(True)\n",
        "plt.show()"
      ],
      "metadata": {
        "id": "bUQAONwJrqSr"
      },
      "execution_count": null,
      "outputs": []
    },
    {
      "cell_type": "code",
      "source": [
        "average_daily_vaccinations = df.groupby(['country', 'date'])['daily_vaccinations'].mean().reset_index()\n",
        "import matplotlib.pyplot as plt\n",
        "plt.figure(figsize=(12, 6))\n",
        "for country in average_daily_vaccinations['country'].unique():\n",
        "   country_data = average_daily_vaccinations[average_daily_vaccinations['country'] == country]\n",
        "plt.plot(country_data['date'], country_data['daily_vaccinations'], label=country)\n",
        "plt.xlabel('Date')\n",
        "plt.ylabel('Average Daily Vaccinations')\n",
        "plt.title('Daily Vaccination Trends')\n",
        "plt.legend()\n",
        "plt.show()\n",
        "\n",
        "highest_avg_daily_vaccinations = average_daily_vaccinations.groupby('country')['daily_vaccinations'].mean().nlargest(10)\n",
        "lowest_avg_daily_vaccinations = average_daily_vaccinations.groupby('country')['daily_vaccinations'].mean().nsmallest(10)\n",
        "\n",
        "print(\"Countries with the highest average daily vaccination rates:\")\n",
        "display(highest_avg_daily_vaccinations)\n",
        "print(\"\\nCountries with the lowest average daily vaccination rates:\")\n",
        "display(lowest_avg_daily_vaccinations)"
      ],
      "metadata": {
        "id": "0VZwlFAitLXE"
      },
      "execution_count": null,
      "outputs": []
    },
    {
      "cell_type": "code",
      "source": [
        "total_vaccinations_by_country = df.groupby('country')['total_vaccinations'].max()\n",
        "highest_total_vaccinations = total_vaccinations_by_country.nlargest(10)\n",
        "lowest_total_vaccinations = total_vaccinations_by_country.nsmallest(10)\n",
        "print(\"Countries with the highest total vaccination numbers:\")\n",
        "display(highest_total_vaccinations)\n",
        "print(\"\\nCountries with the lowest total vaccination numbers:\")\n",
        "display(lowest_total_vaccinations)\n",
        "plt.figure(figsize=(12, 6))\n",
        "for country in df['country'].unique():\n",
        "  country_data = df[df['country'] == country]\n",
        "plt.plot(country_data['date'], country_data['total_vaccinations'],label=country)\n",
        "plt.xlabel('Date')\n",
        "plt.ylabel('Total Vaccinations')\n",
        "plt.title('Total Vaccination Trends')\n",
        "plt.legend()\n",
        "plt.show()"
      ],
      "metadata": {
        "id": "M6aIuu0YtQEF"
      },
      "execution_count": null,
      "outputs": []
    },
    {
      "cell_type": "code",
      "source": [
        "population_data = df.groupby('country').size()\n",
        "population_data = population_data.fillna(10000000)\n",
        "vaccination_rate_by_country = total_vaccinations_by_country / population_data\n",
        "\n",
        "# Analyze the countries with the highest and lowest vaccination rates\n",
        "highest_vaccination_rate = vaccination_rate_by_country.nlargest(5)\n",
        "lowest_vaccination_rate = vaccination_rate_by_country.nsmallest(5)\n",
        "\n",
        "print(\"Countries with the highest vaccination rates:\")\n",
        "display(highest_vaccination_rate)\n",
        "print(\"\\nCountries with the lowest vaccination rates:\")\n",
        "display(lowest_vaccination_rate)\n",
        "plt.figure(figsize=(12, 6)) #Fixed the indentation error by removing the extra space\n",
        "for country in df['country'].unique():\n",
        "    country_data = df[df['country'] == country]\n",
        "    plt.plot(country_data['date'], country_data['total_vaccinations'] / population_data[country], label=country)\n",
        "plt.xlabel('Date')\n",
        "plt.ylabel('Vaccination Rate')\n",
        "plt.title('Vaccination Rate Trends')\n",
        "plt.show()"
      ],
      "metadata": {
        "id": "kCSkFeYOteEM"
      },
      "execution_count": null,
      "outputs": []
    },
    {
      "cell_type": "code",
      "source": [
        "selected_countries = ['United States', 'United Kingdom', 'India', 'China', 'Brazil']\n",
        "average_daily_vaccinations = df.groupby(['country', 'date'])['daily_vaccinations'].mean().reset_index()\n",
        "plt.figure(figsize=(15, 8))\n",
        "for country in selected_countries:\n",
        "  country_data = average_daily_vaccinations[average_daily_vaccinations['country'] == country]\n",
        "  plt.plot(country_data['date'], country_data['daily_vaccinations'], label=country)\n",
        "plt.xlabel('Date')\n",
        "plt.ylabel('Average Daily Vaccinations')\n",
        "plt.title('Average Daily Vaccination Trends for Selected Countries')\n",
        "plt.legend()\n",
        "plt.grid(True)\n",
        "plt.show()"
      ],
      "metadata": {
        "id": "A-0BAu4TtyTt"
      },
      "execution_count": null,
      "outputs": []
    },
    {
      "cell_type": "code",
      "source": [
        "df_forecast = df.groupby(\"date\")[\"total_vaccinations\"].sum()\n",
        "# Check stationarity (Dickey-Fuller Test)\n",
        "adf_test = adfuller(df_forecast.dropna())\n",
        "print(\"ADF Statistic:\", adf_test[0])\n",
        "print(\"p-value:\", adf_test[1])"
      ],
      "metadata": {
        "id": "PQnGFzyprCVX"
      },
      "execution_count": null,
      "outputs": []
    },
    {
      "cell_type": "code",
      "source": [
        "from statsmodels.tsa.arima.model import ARIMA\n",
        "models_fit = ARIMA(df_forecast, order=(5,1,0)).fit()\n",
        "print(models_fit.summary())\n",
        "\n",
        "# Forecast next 30 days\n",
        "df_forecast = models_fit.forecast(steps=30)\n",
        "\n",
        "# Correct the forecast index to start from the last available date\n",
        "forecast_index = pd.date_range(start=df_forecast.index[-1], periods=31, freq=\"D\")[1:]\n",
        "\n",
        "# Forecast next 30 days\n",
        "df_forecast = models_fit.forecast(steps=30)\n",
        "\n",
        "# Correct the forecast index to start from the last available date\n",
        "forecast_index = pd.date_range(start=df_forecast.index[-1], periods=31, freq=\"D\")[1:]"
      ],
      "metadata": {
        "id": "wsGk1K-qrF8B"
      },
      "execution_count": null,
      "outputs": []
    },
    {
      "cell_type": "code",
      "source": [
        "plt.figure(figsize=(10, 5))\n",
        "plt.plot(df_forecast, label=\"Actual\")\n",
        "plt.plot(forecast_index,df_forecast,label=\"Forecast\", color=\"red\")\n",
        "plt.title(\"ARIMA Forecasting - Total Vaccinations\")\n",
        "plt.xlabel(\"Date\")\n",
        "plt.ylabel(\"Total Vaccinations\")\n",
        "plt.legend()\n",
        "plt.show()"
      ],
      "metadata": {
        "id": "ddOCer6QqYEX"
      },
      "execution_count": null,
      "outputs": []
    },
    {
      "cell_type": "code",
      "source": [
        "from sklearn.ensemble import RandomForestRegressor\n",
        "# Define features and target\n",
        "features = [\n",
        "    \"people_vaccinated\", \"people_fully_vaccinated\", \"daily_vaccinations_raw\", \"daily_vaccinations\",\n",
        "    \"total_vaccinations_per_hundred\", \"people_vaccinated_per_hundred\", \"people_fully_vaccinated_per_hundred\",\n",
        "    \"daily_vaccinations_per_million\", \"source_name\", \"source_website\"\n",
        "]\n",
        "target = \"total_vaccinations\"\n",
        "\n",
        "# Drop rows with missing values\n",
        "df = df.dropna(subset=features + [target])\n",
        "X = df[features]\n",
        "y = df[target]\n",
        "\n",
        "# Split dataset\n",
        "X_train, X_test, y_train, y_test = train_test_split(X, y, test_size=0.2, random_state=42)\n",
        "\n",
        "# Encode categorical variables\n",
        "label_encoder_source = LabelEncoder()\n",
        "X_train[\"source_name_encoded\"] = label_encoder_source.fit_transform(X_train[\"source_name\"])\n",
        "X_test[\"source_name_encoded\"] = label_encoder_source.transform(X_test[\"source_name\"])\n",
        "\n",
        "label_encoder_website = LabelEncoder()\n",
        "X_train[\"source_website_encoded\"] = label_encoder_website.fit_transform(X_train[\"source_website\"])\n",
        "X_test[\"source_website_encoded\"] = label_encoder_website.transform(X_test[\"source_website\"])\n",
        "\n",
        "# Drop original categorical columns\n",
        "X_train = X_train.drop([\"source_name\", \"source_website\"], axis=1)\n",
        "X_test = X_test.drop([\"source_name\", \"source_website\"], axis=1)\n",
        "\n",
        "# Train RandomForestRegressor\n",
        "regressor = RandomForestRegressor(n_estimators=100, random_state=42)\n",
        "regressor.fit(X_train, y_train)\n",
        "\n",
        "# Make predictions\n",
        "y_pred = regressor.predict(X_test)\n",
        "\n",
        "# Convert continuous predictions into discrete classes for accuracy calculation\n",
        "y_pred_classes = np.round(y_pred)  # Round predictions to the nearest integer\n",
        "y_test_classes = np.round(y_test)  # Round actual values\n",
        "\n",
        "# Model evaluation\n",
        "print(\"Mean Squared Error:\", mean_squared_error(y_test, y_pred))\n",
        "print(\"R-squared Score:\", r2_score(y_test, y_pred))\n",
        "print(\"Accuracy:\", accuracy_score(y_test_classes, y_pred_classes))  # Compute accuracy on rounded values\n",
        "print(classification_report(y_test_classes, y_pred_classes))"
      ],
      "metadata": {
        "id": "3TBvwY68ofYU"
      },
      "execution_count": null,
      "outputs": []
    },
    {
      "cell_type": "markdown",
      "source": [
        "# Step 10 :Hyperparameter Tuning (GridSearchCV)"
      ],
      "metadata": {
        "id": "xLHYWsseysNH"
      }
    },
    {
      "cell_type": "code",
      "source": [
        "import pandas as pd\n",
        "from sklearn.model_selection import train_test_split, GridSearchCV\n",
        "from sklearn.ensemble import RandomForestRegressor\n",
        "from sklearn.impute import SimpleImputer\n",
        "from sklearn.preprocessing import StandardScaler\n",
        "from sklearn.pipeline import Pipeline\n",
        "import numpy as np\n",
        "\n",
        "# Load the dataset\n",
        "file_path = \"/content/country_vaccinations.csv\"\n",
        "df = pd.read_csv(file_path)\n",
        "\n",
        "# Selecting relevant numerical features (excluding target variable)\n",
        "features = ['total_vaccinations', 'people_vaccinated', 'people_fully_vaccinated',\n",
        "            'total_vaccinations_per_hundred', 'people_vaccinated_per_hundred',\n",
        "            'people_fully_vaccinated_per_hundred', 'daily_vaccinations_per_million']\n",
        "target = 'daily_vaccinations'\n",
        "\n",
        "# Dropping rows where target is NaN\n",
        "df_cleaned = df.dropna(subset=[target])\n",
        "\n",
        "# Splitting data into features (X) and target (y)\n",
        "X = df_cleaned[features]\n",
        "y = df_cleaned[target]\n",
        "\n",
        "# Splitting into training and testing sets\n",
        "X_train, X_test, y_train, y_test = train_test_split(X, y, test_size=0.2, random_state=42)\n",
        "\n",
        "# Creating a pipeline with imputation, scaling, and RandomForestRegressor\n",
        "pipeline = Pipeline([\n",
        "    ('imputer', SimpleImputer(strategy='mean')),\n",
        "    ('scaler', StandardScaler()),\n",
        "    ('model', RandomForestRegressor(random_state=42))\n",
        "])\n",
        "\n",
        "# Defining hyperparameter grid\n",
        "# Reduced search space to potentially reduce processing time\n",
        "param_grid = {\n",
        "    'model__n_estimators': [50, 100],\n",
        "    'model__max_depth': [None, 10],\n",
        "    'model__min_samples_split': [2, 5]\n",
        "}\n",
        "\n",
        "# Performing GridSearchCV\n",
        "grid_search = GridSearchCV(pipeline, param_grid, cv=5, scoring='neg_mean_squared_error', n_jobs=-1)\n",
        "# Wrap the fit call with try-except to gracefully handle KeyboardInterrupt\n",
        "try:\n",
        "    grid_search.fit(X_train, y_train)\n",
        "except KeyboardInterrupt:\n",
        "    print(\"Grid search interrupted. Using the best parameters found so far.\")\n",
        "    # Check if best_params_ is available before accessing it\n",
        "    if hasattr(grid_search, 'best_params_'):\n",
        "        print(\"Best parameters:\", grid_search.best_params_)\n",
        "        print(\"RMSE:\", np.sqrt(-grid_search.best_score_))\n",
        "    else:\n",
        "        print(\"Grid search was interrupted before finding best parameters.\")\n",
        "else:  # If fit completes without interruption\n",
        "    print(\"Best parameters:\", grid_search.best_params_)\n",
        "    print(\"RMSE:\", np.sqrt(-grid_search.best_score_))"
      ],
      "metadata": {
        "id": "o_8PBPzX2ypm"
      },
      "execution_count": null,
      "outputs": []
    }
  ]
}